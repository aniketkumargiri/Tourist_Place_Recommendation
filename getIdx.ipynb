{
 "cells": [
  {
   "cell_type": "code",
   "execution_count": 12,
   "metadata": {},
   "outputs": [],
   "source": [
    "import pandas as pd\n",
    "df = pd.read_csv(\"cleansed_data.csv\")\n",
    "# cities = set()\n",
    "# for i in range(0,len(df)-1):\n",
    "#     cities.add(df.at[i,'City'])\n",
    "flag = False\n",
    "city = df.at[0,'City']\n",
    "with open('cityidx.txt', 'w') as f:\n",
    "    if flag == False:\n",
    "        f.write(city)\n",
    "        f.write(',')\n",
    "        f.write(str(0))\n",
    "        flag = True\n",
    "\n",
    "# with open('cityidx.txt', 'w') as f:\n",
    "        for i in range(1,len(df)-1):\n",
    "            if df.at[i,'City'] != city:\n",
    "                f.write(',')\n",
    "                f.write(str(i-1))\n",
    "                f.write(\"\\n\")\n",
    "                city = df.at[i,'City']\n",
    "                f.write(city)\n",
    "                f.write(',')\n",
    "                f.write(str(i))\n",
    "        \n",
    "\n",
    "\n",
    "\n",
    "\n",
    "#     for city in cities:\n",
    "#         f.write(city)\n",
    "#         f.write(\"\\n\")"
   ]
  }
 ],
 "metadata": {
  "kernelspec": {
   "display_name": "Python 3.10.5 64-bit",
   "language": "python",
   "name": "python3"
  },
  "language_info": {
   "codemirror_mode": {
    "name": "ipython",
    "version": 3
   },
   "file_extension": ".py",
   "mimetype": "text/x-python",
   "name": "python",
   "nbconvert_exporter": "python",
   "pygments_lexer": "ipython3",
   "version": "3.10.5"
  },
  "orig_nbformat": 4,
  "vscode": {
   "interpreter": {
    "hash": "1d35464b22ad81b624a3cc016497c0eca96171af82b9b67723e3ada9273f011b"
   }
  }
 },
 "nbformat": 4,
 "nbformat_minor": 2
}
