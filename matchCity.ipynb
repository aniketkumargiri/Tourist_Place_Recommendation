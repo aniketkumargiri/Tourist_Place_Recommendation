{
 "cells": [
  {
   "cell_type": "code",
   "execution_count": 1,
   "metadata": {},
   "outputs": [],
   "source": [
    "with open(\"cities.txt\",\"r\") as f:\n",
    "    cities = f.read().split(\"\\n\")\n",
    "    "
   ]
  },
  {
   "cell_type": "code",
   "execution_count": 2,
   "metadata": {},
   "outputs": [],
   "source": [
    "from fuzzywuzzy import process\n",
    "def getmatches(query,choices,limit=5):\n",
    "    results= (process.extract(query,choices,limit=limit))\n",
    "    # print(results)\n",
    "    cities = list()\n",
    "    # print(results[0][1])\n",
    "    if results[0][1]!=100:\n",
    "        print(\"City not found!\")\n",
    "        print(\"Closest matches are:\")\n",
    "        for i in results:\n",
    "                cities.append(i[0])\n",
    "        print(cities)\n",
    "        return \"Please choose correct name!\"\n",
    "    else:\n",
    "        return results[0][0]\n",
    "\n",
    "        \n",
    "    # print(result[0])\n",
    "    # print(type(result[0]))\n",
    "    # city = \"\"\n",
    "    # val = \"\"\n",
    "    # flag1 = False\n",
    "    # flag2 = False\n",
    "    # count = 2\n",
    "    # for i in result:\n",
    "    #     if flag2 and i==')':\n",
    "    #         break\n",
    "    #     elif flag2 and count :\n",
    "    #         count-=1 \n",
    "    #     elif flag2 and not count:\n",
    "    #         val=val+i\n",
    "    #     elif i == '\\'' and not flag1:\n",
    "    #         flag1 = True\n",
    "    #     elif i == '\\'' and flag1:\n",
    "    #         flag2 = True\n",
    "    #     elif flag1 :\n",
    "    #         city = city+i\n",
    "    \n",
    "    # return [city,val]"
   ]
  },
  {
   "cell_type": "code",
   "execution_count": 3,
   "metadata": {},
   "outputs": [
    {
     "name": "stdout",
     "output_type": "stream",
     "text": [
      "Nagpur\n"
     ]
    }
   ],
   "source": [
    "match = (getmatches(\"Nagpur\",cities))\n",
    "print(match)"
   ]
  }
 ],
 "metadata": {
  "kernelspec": {
   "display_name": "Python 3.10.5 64-bit",
   "language": "python",
   "name": "python3"
  },
  "language_info": {
   "codemirror_mode": {
    "name": "ipython",
    "version": 3
   },
   "file_extension": ".py",
   "mimetype": "text/x-python",
   "name": "python",
   "nbconvert_exporter": "python",
   "pygments_lexer": "ipython3",
   "version": "3.10.5"
  },
  "orig_nbformat": 4,
  "vscode": {
   "interpreter": {
    "hash": "1d35464b22ad81b624a3cc016497c0eca96171af82b9b67723e3ada9273f011b"
   }
  }
 },
 "nbformat": 4,
 "nbformat_minor": 2
}
