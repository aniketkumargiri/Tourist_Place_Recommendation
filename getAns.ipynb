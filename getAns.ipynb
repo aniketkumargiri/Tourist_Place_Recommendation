{
 "cells": [
  {
   "cell_type": "code",
   "execution_count": 153,
   "metadata": {},
   "outputs": [],
   "source": [
    "import pandas as pd\n",
    "from fuzzywuzzy import process\n",
    "df = pd.read_csv(\"cleansed_data.csv\")\n",
    "\n",
    "with open(\"cities.txt\",\"r\") as f:\n",
    "    cities = f.read().split(\"\\n\")\n"
   ]
  },
  {
   "cell_type": "code",
   "execution_count": 154,
   "metadata": {},
   "outputs": [],
   "source": [
    "\n",
    "def getmatches(query,choices,limit=5):\n",
    "    results= (process.extract(query,choices,limit=limit))\n",
    "    # print(results)\n",
    "    cities = []\n",
    "    # print(results[0][1])\n",
    "    if results[0][1]!=100:\n",
    "        print(\"City not found!\")\n",
    "        print(\"Closest matches are:\")\n",
    "        for i in results:\n",
    "                cities.append(i[0])\n",
    "        print(cities)\n",
    "        return \"Please choose correct name!\"\n",
    "    else:\n",
    "        return results[0][0]\n",
    "\n",
    "        \n",
    "    # print(result[0])\n",
    "    # print(type(result[0]))\n",
    "    # city = \"\"\n",
    "    # val = \"\"\n",
    "    # flag1 = False\n",
    "    # flag2 = False\n",
    "    # count = 2\n",
    "    # for i in result:\n",
    "    #     if flag2 and i==')':\n",
    "    #         break\n",
    "    #     elif flag2 and count :\n",
    "    #         count-=1 \n",
    "    #     elif flag2 and not count:\n",
    "    #         val=val+i\n",
    "    #     elif i == '\\'' and not flag1:\n",
    "    #         flag1 = True\n",
    "    #     elif i == '\\'' and flag1:\n",
    "    #         flag2 = True\n",
    "    #     elif flag1 :\n",
    "    #         city = city+i\n",
    "    \n",
    "    # return [city,val]"
   ]
  },
  {
   "cell_type": "code",
   "execution_count": 189,
   "metadata": {},
   "outputs": [
    {
     "name": "stdout",
     "output_type": "stream",
     "text": [
      "Nashik\n"
     ]
    }
   ],
   "source": [
    "inputCity = input(\"Enter City\")\n",
    "city = (getmatches(inputCity,cities))\n",
    "print(city)"
   ]
  },
  {
   "cell_type": "code",
   "execution_count": 230,
   "metadata": {},
   "outputs": [
    {
     "name": "stdout",
     "output_type": "stream",
     "text": [
      "['Naroshankara Temple', 'Grover Zampa Vineyards Nashik', 'Dadasaheb Phalke Memorial', 'Anjneri Hill', 'Gajpantha Jain Siddha Kshetra Temple - Digambar & Chamar Leni', 'Sundarnarayan Temple', 'Ram Lakshman Tirtha', 'Bhakti Dham Shrine', 'Shree Jagannath Mandir, Nashik', 'Dhodap Fort', 'Dugarwadi Waterfall', 'Balaji Devsthan', 'Nisarg Raja Agro Tourism', 'Dhammagiri', 'ISKCON Nashik, Sri Sri Radha Madan Gopal Temple', 'Kedareshwar Temple', 'Ozarkhed Dam', 'Kapileswara Temple', 'Shrine of Infant Jesus, Nashik', 'Chambharlena Caves', 'Tringalwadi Fort', 'Swami Samarth Ashram', 'Vihigaon Waterfall', 'Someshwar Temple', 'Shri Karthik Swami Mandir', 'Shree Laxmanji Temple', 'Aahilya Dam', 'Soma Vine Village', 'Nashik City Centre Mall', 'Mangi Tungi', 'Shree Datta Mandir Temple', 'Jain Mandir Nashik', 'Nandur Madhmeshwar Bird Sanctuary', 'Ramkund', 'York Winery & Tasting Room', 'Pandavleni Caves', 'Harihar Fort', 'Navshya Ganapati Temple', 'Kalaram Temple', 'Muktidham Temple', 'Saptashrungi', 'Girna Dam', 'Karanjwan Dam', 'WeGo Art Gallery & Art Exhibition', 'Anjaneri Fort', 'Temple Hill', 'Coin Museum', \"Bishop's House\", 'Ghatandevi Mandir Temple', 'Badrakali Temple', 'Someshwar Water Fall', 'Designer-i', 'Agasti Mandir Temple', 'Veda Mandir Temple', 'Gangadwar', 'Sant Nivrutti Nath Samadhi Mandir', 'Regiment of Artillery Museum', 'Gangapur Dam', 'Shree Dharmachakra Prabhav Jain Shwetamber Teerth', 'Brahmagiri Hill', 'Shree Swami Samartha Kendra', 'Ganga Ghat', 'Sita Gumpha', 'Vallonne Vineyards', 'HAL Pragati Museum', 'Pandit Jawaharlal Nehru Botanical Garden', 'Shubham Water World', 'Shri Anna Ganapati Navgraha Siddhapeetham', 'Ruchir Art Gallery', 'Tringalwadi Lake', 'Sula Vineyards', 'Saptashringi Devi temple castle', 'Alang-Madan-Kulang', 'Ramshej Fort', 'Kashyapi Dam', 'Chandon India Winery', 'Garapantha Digambar Jain Siddhakshetra & Chambhar Leni - Jain Temple', 'Modakeshwar Ganesh Temple', 'Gore Ram Temple']\n",
      "[[], [], [], [], [], [], [], [], [], [], [], [], [], [], [], [], [], [], [], [], [], [], [], [], [], [], [], [], [], [], [], [], [], [], [], [], [], [], [], [], [], [], [], [], [], [], [], [], [], [], [], [], [], [], [], [], [], [], [], [], [], [], [], [], [], [], [], [], [], [], [], [], [], [], [], [], [], [], []]\n",
      "[0, 0, 0, 0, 0, 0, 0, 0, 0, 0, 0, 0, 0, 0, 0, 0, 0, 0, 0, 0, 0, 0, 0, 0, 0, 0, 0, 0, 0, 0, 0, 0, 0, 0, 0, 0, 0, 0, 0, 0, 0, 0, 0, 0, 0, 0, 0, 0, 0, 0, 0, 0, 0, 0, 0, 0, 0, 0, 0, 0, 0, 0, 0, 0, 0, 0, 0, 0, 0, 0, 0, 0, 0, 0, 0, 0, 0, 0, 0]\n"
     ]
    }
   ],
   "source": [
    "# city = input(\"Enter City\")\n",
    "tempPlaces = set()\n",
    "for i in range(0,len(df)-1):\n",
    "    if df.at[i,'City'] == city:\n",
    "        tempPlaces.add(df.at[i,'Place'])\n",
    "places = []\n",
    "reviews = []\n",
    "values = []\n",
    "for i in tempPlaces:\n",
    "    places.append(i)\n",
    "    reviews.append([])\n",
    "    values.append(0)\n",
    "print(places)\n",
    "print(reviews)\n",
    "print(values)"
   ]
  },
  {
   "cell_type": "code",
   "execution_count": 231,
   "metadata": {},
   "outputs": [],
   "source": [
    "\n",
    "for i in range(0,len(df)-1):\n",
    "    if df.at[i,'City'] == city:\n",
    "        for j in range(0,len(places)-1):\n",
    "            if df.at[i,'Place'] == places[j]:\n",
    "                review = df.at[i,'Review']\n",
    "                word = \"\"\n",
    "                for char in review:\n",
    "                    if char == \" \" or char == '.' or char == ',':\n",
    "                        reviews[j].append(word)\n",
    "                        word = \"\"\n",
    "                    else:\n",
    "                        word=word+char\n",
    "                \n",
    "                # reviews[j] = reviews[j] + ' ' + df.at[i,'Review']\n",
    "            # reviews.append(df.at[i,'Review'])"
   ]
  },
  {
   "cell_type": "code",
   "execution_count": 232,
   "metadata": {},
   "outputs": [],
   "source": [
    "from collections import Counter\n",
    "word_cnt = []\n",
    "for list in reviews:\n",
    "    list_freq= (Counter(list))\n",
    "    word_cnt.append(list_freq)\n",
    "    # print(list_freq)\n",
    "# Finding count of each element\n",
    "\n",
    "\n",
    "#Printing result of counter\n",
    "# print(list_freq)\n",
    "\n",
    "# Printing it using loop\n",
    "# for key, value in list_freq.items():\n",
    "#    print(key, \" has count \", value)"
   ]
  },
  {
   "cell_type": "code",
   "execution_count": 233,
   "metadata": {},
   "outputs": [
    {
     "name": "stdout",
     "output_type": "stream",
     "text": [
      "<class 'list'>\n",
      "<class 'collections.Counter'>\n"
     ]
    }
   ],
   "source": [
    "# print(word_cnt[2])\n",
    "print(type(word_cnt))\n",
    "print(type(word_cnt[0]))"
   ]
  },
  {
   "cell_type": "code",
   "execution_count": 234,
   "metadata": {},
   "outputs": [],
   "source": [
    "import nltk\n",
    "from nltk.corpus import wordnet"
   ]
  },
  {
   "cell_type": "code",
   "execution_count": 235,
   "metadata": {},
   "outputs": [
    {
     "name": "stdout",
     "output_type": "stream",
     "text": [
      "['river']\n",
      "[True, False, False, False, False, True, True, False, False, False, False, True, False, False, False, False, False, True, False, False, False, False, False, True, False, False, False, False, False, False, False, False, False, True, True, False, False, True, True, False, False, False, False, False, False, False, False, False, False, False, True, False, True, False, True, False, False, True, False, True, False, True, False, False, False, False, False, False, False, False, True, False, False, False, False, False, False, True]\n",
      "[8, 0, 0, 0, 0, 7, 5, 0, 0, 0, 0, 10, 0, 0, 0, 0, 0, 15, 0, 0, 0, 0, 0, 70, 0, 0, 0, 0, 0, 0, 0, 0, 0, 84, 6, 0, 0, 42, 22, 0, 0, 0, 0, 0, 0, 0, 0, 0, 0, 0, 9, 0, 5, 0, 8, 0, 0, 12, 0, 15, 0, 25, 0, 0, 0, 0, 0, 0, 0, 0, 7, 0, 0, 0, 0, 0, 0, 5, 0]\n"
     ]
    }
   ],
   "source": [
    "interests = input(\"Enter your interest, comma separated\")\n",
    "# print(interests)\n",
    "# values = []\n",
    "hasAll = []\n",
    "for i in range(0,len(places)-1) :\n",
    "    values[i]= 0\n",
    "    hasAll.append(True)\n",
    "# print(hasAll)\n",
    "keywords = []\n",
    "interest = \"\"\n",
    "for i in interests :\n",
    "    # print(i)\n",
    "    if i == ',' :\n",
    "        keywords.append(interest)\n",
    "        interest=\"\"\n",
    "    elif i != ',' and i != ' ' :\n",
    "        interest = interest + i\n",
    "if interest!=\"\":\n",
    "    keywords.append(interest)\n",
    "print(keywords)\n",
    "# vals = []\n",
    "for i in keywords :\n",
    "    synoset = set()\n",
    "    # synonyms =  []\n",
    "    for i in keywords :\n",
    "        for syn in wordnet.synsets(i) :\n",
    "            for l in syn.lemmas() :\n",
    "                synoset.add(l.name())\n",
    "        # print(synoset)\n",
    "        for i in range(0,len(word_cnt)-1) :\n",
    "            count=0\n",
    "            for keyword in synoset:\n",
    "                for key, value in word_cnt[i].items() :\n",
    "                    if hasAll[i] == True and keyword == key :\n",
    "                        # values[i]+=value\n",
    "                        count+=value\n",
    "            if count<=3:\n",
    "                hasAll[i]=False\n",
    "                values[i]=0\n",
    "            else:\n",
    "                values[i]+=count\n",
    "            # else:\n",
    "            #     values[i]+=count\n",
    "            #     print(count)\n",
    "                # count+=value\n",
    "\n",
    "            # print(key, \" has count \", value)\n",
    "        # values[i]+=count\n",
    "print(hasAll)\n",
    "print(values)"
   ]
  },
  {
   "cell_type": "code",
   "execution_count": 236,
   "metadata": {},
   "outputs": [],
   "source": [
    "values, places = zip(*sorted(zip(values, places)))"
   ]
  },
  {
   "cell_type": "code",
   "execution_count": 237,
   "metadata": {},
   "outputs": [
    {
     "name": "stdout",
     "output_type": "stream",
     "text": [
      "(0, 0, 0, 0, 0, 0, 0, 0, 0, 0, 0, 0, 0, 0, 0, 0, 0, 0, 0, 0, 0, 0, 0, 0, 0, 0, 0, 0, 0, 0, 0, 0, 0, 0, 0, 0, 0, 0, 0, 0, 0, 0, 0, 0, 0, 0, 0, 0, 0, 0, 0, 0, 0, 0, 0, 0, 0, 0, 0, 0, 0, 5, 5, 5, 6, 7, 7, 8, 8, 9, 10, 12, 15, 15, 22, 25, 42, 70, 84)\n",
      "('Aahilya Dam', 'Alang-Madan-Kulang', 'Anjaneri Fort', 'Anjneri Hill', 'Badrakali Temple', 'Bhakti Dham Shrine', \"Bishop's House\", 'Chambharlena Caves', 'Chandon India Winery', 'Coin Museum', 'Dadasaheb Phalke Memorial', 'Designer-i', 'Dhammagiri', 'Dhodap Fort', 'Dugarwadi Waterfall', 'Gajpantha Jain Siddha Kshetra Temple - Digambar & Chamar Leni', 'Garapantha Digambar Jain Siddhakshetra & Chambhar Leni - Jain Temple', 'Ghatandevi Mandir Temple', 'Girna Dam', 'Gore Ram Temple', 'Grover Zampa Vineyards Nashik', 'HAL Pragati Museum', 'Harihar Fort', 'ISKCON Nashik, Sri Sri Radha Madan Gopal Temple', 'Jain Mandir Nashik', 'Karanjwan Dam', 'Kashyapi Dam', 'Kedareshwar Temple', 'Mangi Tungi', 'Muktidham Temple', 'Nandur Madhmeshwar Bird Sanctuary', 'Nashik City Centre Mall', 'Nisarg Raja Agro Tourism', 'Ozarkhed Dam', 'Pandavleni Caves', 'Pandit Jawaharlal Nehru Botanical Garden', 'Ramshej Fort', 'Regiment of Artillery Museum', 'Ruchir Art Gallery', 'Sant Nivrutti Nath Samadhi Mandir', 'Saptashringi Devi temple castle', 'Saptashrungi', 'Shree Datta Mandir Temple', 'Shree Dharmachakra Prabhav Jain Shwetamber Teerth', 'Shree Jagannath Mandir, Nashik', 'Shree Laxmanji Temple', 'Shree Swami Samartha Kendra', 'Shri Anna Ganapati Navgraha Siddhapeetham', 'Shri Karthik Swami Mandir', 'Shrine of Infant Jesus, Nashik', 'Shubham Water World', 'Sita Gumpha', 'Soma Vine Village', 'Swami Samarth Ashram', 'Temple Hill', 'Tringalwadi Fort', 'Tringalwadi Lake', 'Vallonne Vineyards', 'Veda Mandir Temple', 'Vihigaon Waterfall', 'WeGo Art Gallery & Art Exhibition', 'Agasti Mandir Temple', 'Modakeshwar Ganesh Temple', 'Ram Lakshman Tirtha', 'York Winery & Tasting Room', 'Sula Vineyards', 'Sundarnarayan Temple', 'Gangadwar', 'Naroshankara Temple', 'Someshwar Water Fall', 'Balaji Devsthan', 'Gangapur Dam', 'Brahmagiri Hill', 'Kapileswara Temple', 'Kalaram Temple', 'Ganga Ghat', 'Navshya Ganapati Temple', 'Someshwar Temple', 'Ramkund')\n"
     ]
    }
   ],
   "source": [
    "print(values)\n",
    "print(places)"
   ]
  },
  {
   "cell_type": "code",
   "execution_count": 238,
   "metadata": {},
   "outputs": [
    {
     "name": "stdout",
     "output_type": "stream",
     "text": [
      "Top recommended tourist sites: \n",
      "( 1 ) Ramkund\n",
      "( 2 ) Someshwar Temple\n",
      "( 3 ) Navshya Ganapati Temple\n",
      "( 4 ) Ganga Ghat\n",
      "( 5 ) Kalaram Temple\n",
      "( 6 ) Kapileswara Temple\n",
      "( 7 ) Brahmagiri Hill\n",
      "( 8 ) Gangapur Dam\n",
      "( 9 ) Balaji Devsthan\n",
      "( 10 ) Someshwar Water Fall\n",
      "( 11 ) Naroshankara Temple\n",
      "( 12 ) Gangadwar\n",
      "( 13 ) Sundarnarayan Temple\n",
      "( 14 ) Sula Vineyards\n",
      "( 15 ) York Winery & Tasting Room\n",
      "( 16 ) Ram Lakshman Tirtha\n",
      "( 17 ) Modakeshwar Ganesh Temple\n",
      "( 18 ) Agasti Mandir Temple\n"
     ]
    }
   ],
   "source": [
    "print(\"Top recommended tourist sites: \")\n",
    "for i in range(len(places)-1,0,-1):\n",
    "    if values[i]==0:\n",
    "        break\n",
    "    else:\n",
    "        print(\"(\",len(places)-i,\")\", places[i])\n"
   ]
  },
  {
   "cell_type": "code",
   "execution_count": 174,
   "metadata": {},
   "outputs": [
    {
     "name": "stdout",
     "output_type": "stream",
     "text": [
      "Counter({'river': 6, 'place': 5, 'nice': 3, 'nagpur': 3, 'beautiful': 3, 'day': 2, 'visited': 2, 'picnic': 2, 'enjoy': 2, 'family': 2, 'relaxing': 2, 'recommend': 2, 'transportation': 2, 'flowing': 2, 'view': 2, 'approx': 1, 'kms': 1, 'trip': 1, 'kerkrenala': 1, 'dam': 1, 'reservior': 1, 'spot': 1, 'best': 1, 'nature': 1, 'rushing': 1, 'cities': 1, 'arani': 1, 'celebrate': 1, 'visit': 1, 'time': 1, 'nera': 1, 'hidden': 1, 'treasure': 1, 'know': 1, 'highly': 1, 'people': 1, 'travel': 1, 'private': 1, 'instead': 1, 'public': 1, 'lot': 1, 'spots': 1, 'stop': 1, 'selfies': 1, 'scenery': 1, 'fantastic': 1, 'fabulous': 1, 'monsoon': 1, 'offers': 1, 'surrounding': 1, 'area': 1, 'reflects': 1, 'greenary': 1, 'vrey': 1, 'spnding': 1, 'itisa': 1, 'watch': 1, 'araniin': 1, 'rainy': 1, 'season': 1, 'flows': 1, 'spent': 1, 'hour': 1, 'really': 1, 'enjoyable': 1, 'reach': 1})\n"
     ]
    }
   ],
   "source": [
    "# for list in word_cnt:\n",
    "#     print(list)\n",
    "#     break\n",
    "print(word_cnt[0])"
   ]
  },
  {
   "cell_type": "code",
   "execution_count": 36,
   "metadata": {},
   "outputs": [
    {
     "name": "stdout",
     "output_type": "stream",
     "text": [
      "Counter({'Mon': 3, 'Tue': 2, 'Wed': 1})\n",
      "Mon  has count  3\n",
      "Tue  has count  2\n",
      "Wed  has count  1\n"
     ]
    }
   ],
   "source": [
    "from collections import Counter\n",
    "list = ['Mon', 'Tue', 'Wed', 'Mon','Mon','Tue']\n",
    "\n",
    "# Finding count of each element\n",
    "list_freq= (Counter(list))\n",
    "\n",
    "#Printing result of counter\n",
    "print(list_freq)\n",
    "\n",
    "# Printing it using loop\n",
    "for key, value in list_freq.items():\n",
    "   print(key, \" has count \", value)"
   ]
  },
  {
   "cell_type": "code",
   "execution_count": null,
   "metadata": {},
   "outputs": [],
   "source": [
    "# intializing the list\n",
    "arr = [1, 1, 1, 2, 2, 2, 2, 3, 3, 3, 3, 3]\n",
    "# initializing dict to store frequency of each element\n",
    "elements_count = {}\n",
    "# iterating over the elements for frequency\n",
    "for element in arr:\n",
    "   # checking whether it is in the dict or not\n",
    "   if element in elements_count:\n",
    "      # incerementing the count by 1\n",
    "      elements_count[element] += 1\n",
    "   else:\n",
    "      # setting the count to 1\n",
    "      elements_count[element] = 1\n",
    "# printing the elements frequencies\n",
    "for key, value in elements_count.items():\n",
    "   print(f\"{key}: {value}\")"
   ]
  },
  {
   "cell_type": "code",
   "execution_count": null,
   "metadata": {},
   "outputs": [],
   "source": [
    "for i in range(0,len(df)-1):\n",
    "    if df.at[i,'City'] == city:\n",
    "        for j in range(0,len(places)-1):\n",
    "            if df.at[i,'Place'] == places[j]:\n",
    "                reviews[j] = reviews[j] + ' ' + df.at[i,'Review']\n",
    "            # reviews.append(df.at[i,'Review'])"
   ]
  }
 ],
 "metadata": {
  "kernelspec": {
   "display_name": "Python 3.10.5 64-bit",
   "language": "python",
   "name": "python3"
  },
  "language_info": {
   "codemirror_mode": {
    "name": "ipython",
    "version": 3
   },
   "file_extension": ".py",
   "mimetype": "text/x-python",
   "name": "python",
   "nbconvert_exporter": "python",
   "pygments_lexer": "ipython3",
   "version": "3.10.5 (tags/v3.10.5:f377153, Jun  6 2022, 16:14:13) [MSC v.1929 64 bit (AMD64)]"
  },
  "orig_nbformat": 4,
  "vscode": {
   "interpreter": {
    "hash": "1d35464b22ad81b624a3cc016497c0eca96171af82b9b67723e3ada9273f011b"
   }
  }
 },
 "nbformat": 4,
 "nbformat_minor": 2
}
