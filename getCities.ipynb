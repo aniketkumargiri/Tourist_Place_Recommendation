{
 "cells": [
  {
   "cell_type": "code",
   "execution_count": 3,
   "metadata": {},
   "outputs": [],
   "source": [
    "import pandas as pd\n",
    "df = pd.read_csv(\"cleansed_data.csv\")\n",
    "cities = set()\n",
    "for i in range(0,len(df)-1):\n",
    "    cities.add(df.at[i,'City'])\n",
    "\n",
    "with open('cities.txt', 'w') as f:\n",
    "    for city in cities:\n",
    "        f.write(city)\n",
    "        f.write(\"\\n\")"
   ]
  }
 ],
 "metadata": {
  "kernelspec": {
   "display_name": "Python 3.10.5 64-bit",
   "language": "python",
   "name": "python3"
  },
  "language_info": {
   "codemirror_mode": {
    "name": "ipython",
    "version": 3
   },
   "file_extension": ".py",
   "mimetype": "text/x-python",
   "name": "python",
   "nbconvert_exporter": "python",
   "pygments_lexer": "ipython3",
   "version": "3.10.5"
  },
  "orig_nbformat": 4,
  "vscode": {
   "interpreter": {
    "hash": "1d35464b22ad81b624a3cc016497c0eca96171af82b9b67723e3ada9273f011b"
   }
  }
 },
 "nbformat": 4,
 "nbformat_minor": 2
}
