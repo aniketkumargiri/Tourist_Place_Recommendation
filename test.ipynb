{
 "cells": [
  {
   "cell_type": "code",
   "execution_count": 4,
   "metadata": {},
   "outputs": [
    {
     "name": "stdout",
     "output_type": "stream",
     "text": [
      "   Unnamed: 0.1  Unnamed: 0               City                    Place  \\\n",
      "0             0           0  Aamby Valley City          19 Degree North   \n",
      "1             1           1  Aamby Valley City          19 Degree North   \n",
      "2             2           2  Aamby Valley City          19 Degree North   \n",
      "3             3           3  Aamby Valley City          19 Degree North   \n",
      "4             4           4  Aamby Valley City          19 Degree North   \n",
      "5             5           5  Aamby Valley City          19 Degree North   \n",
      "6             6           6  Aamby Valley City          19 Degree North   \n",
      "7             7           7           Abhaneri  Chand Baori (Step well)   \n",
      "8             8           8           Abhaneri  Chand Baori (Step well)   \n",
      "9             9           9           Abhaneri  Chand Baori (Step well)   \n",
      "\n",
      "                                              Review  Rating  \\\n",
      "0  aamby valley beautiful place clear blue skies ...       5   \n",
      "1  executed obt akshay thanx team thoroughly enjo...       4   \n",
      "2  awesome experience atv tracts obstacles mainta...       5   \n",
      "3  visited aamby valley yesterday short excursion...       4   \n",
      "4  far mumbai place finest adventure places visit...       5   \n",
      "5  yearn adrenaline rush place try atv forester m...       5   \n",
      "6  great adventure place recommend x jungle safar...       5   \n",
      "7  visit jaipur trip usually itinerary need ask t...       4   \n",
      "8  happen traveling jaipur agra vice versa detour...       3   \n",
      "9  chand bawari located villege abhaneri near dou...       3   \n",
      "\n",
      "                                          Raw_Review  sentiment  \n",
      "0  Aamby valley is a beautiful place with its cle...       0.32  \n",
      "1  Very well executed obt by Akshay.... Thanx as ...       0.23  \n",
      "2  Awesome experience at the ATV\\nTracts and obst...       0.54  \n",
      "3  we visited the Aamby Valley yesterday for shor...       0.30  \n",
      "4  Not far from Mumbai, this place is one of the ...       0.21  \n",
      "5  if you yearn for the adrenaline rush then this...       0.65  \n",
      "6  A great adventure place .I recommend  there 4x...       0.25  \n",
      "7  This is a must visit on your Jaipur trip. It i...       0.34  \n",
      "8  If you happen to be traveling from Jaipur to A...      -0.18  \n",
      "9  Chand bawari is located in villege Abhaneri ne...       0.25  \n"
     ]
    }
   ],
   "source": [
    "import pandas as pd\n",
    "df = pd.read_csv(\"cleansed_data.csv\")\n"
   ]
  },
  {
   "cell_type": "code",
   "execution_count": null,
   "metadata": {},
   "outputs": [],
   "source": [
    "print(df.head(10))"
   ]
  }
 ],
 "metadata": {
  "kernelspec": {
   "display_name": "Python 3.10.5 64-bit",
   "language": "python",
   "name": "python3"
  },
  "language_info": {
   "codemirror_mode": {
    "name": "ipython",
    "version": 3
   },
   "file_extension": ".py",
   "mimetype": "text/x-python",
   "name": "python",
   "nbconvert_exporter": "python",
   "pygments_lexer": "ipython3",
   "version": "3.10.5 (tags/v3.10.5:f377153, Jun  6 2022, 16:14:13) [MSC v.1929 64 bit (AMD64)]"
  },
  "orig_nbformat": 4,
  "vscode": {
   "interpreter": {
    "hash": "1d35464b22ad81b624a3cc016497c0eca96171af82b9b67723e3ada9273f011b"
   }
  }
 },
 "nbformat": 4,
 "nbformat_minor": 2
}
