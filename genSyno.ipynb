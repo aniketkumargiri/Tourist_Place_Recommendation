{
 "cells": [
  {
   "cell_type": "code",
   "execution_count": 50,
   "metadata": {},
   "outputs": [
    {
     "name": "stdout",
     "output_type": "stream",
     "text": [
      "{'cheesy', 'sleazy', 'tinny', 'garish', 'brassy', 'loud', 'flashy', 'gaudy', 'meretricious', 'bum', 'punk', 'trashy', 'tacky', 'tatty', 'crummy', 'tawdry', 'inexpensive', 'chintzy', 'cheap', 'chinchy', 'gimcrack', 'flash'}\n"
     ]
    }
   ],
   "source": [
    "import nltk\n",
    "from nltk.corpus import wordnet\n",
    "\n",
    "# city = input(\"Enter the name of City: \")\n",
    "interests = input(\"Enter your interest, comma separated\")\n",
    "# print(interests)\n",
    "keywords = []\n",
    "interest = \"\"\n",
    "for i in interests:\n",
    "    # print(i)\n",
    "    if i == ',':\n",
    "        keywords.append(interest)\n",
    "        interest=\"\"\n",
    "    elif i != ',' and i != ' ':\n",
    "        interest = interest + i\n",
    "if interest!=\"\":\n",
    "    keywords.append(interest)\n",
    "# print(keywords)\n",
    "synoset = set()\n",
    "synonyms =  []\n",
    "for i in keywords:\n",
    "    for syn in wordnet.synsets(i):\n",
    "        for l in syn.lemmas():\n",
    "            synoset.add(l.name())\n",
    "    # print(synoset)\n",
    "    # synonyms.append(synoset)\n",
    "    # synoset.clear()\n",
    "# print(synoset)\n",
    "# print(synonyms[0])\n",
    "# if len(synoset) != 0:\n",
    "#     synonyms.append(synoset)\n",
    "print((synoset))"
   ]
  }
 ],
 "metadata": {
  "kernelspec": {
   "display_name": "Python 3.10.5 64-bit",
   "language": "python",
   "name": "python3"
  },
  "language_info": {
   "codemirror_mode": {
    "name": "ipython",
    "version": 3
   },
   "file_extension": ".py",
   "mimetype": "text/x-python",
   "name": "python",
   "nbconvert_exporter": "python",
   "pygments_lexer": "ipython3",
   "version": "3.10.5 (tags/v3.10.5:f377153, Jun  6 2022, 16:14:13) [MSC v.1929 64 bit (AMD64)]"
  },
  "orig_nbformat": 4,
  "vscode": {
   "interpreter": {
    "hash": "1d35464b22ad81b624a3cc016497c0eca96171af82b9b67723e3ada9273f011b"
   }
  }
 },
 "nbformat": 4,
 "nbformat_minor": 2
}
