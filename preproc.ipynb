{
 "cells": [
  {
   "cell_type": "code",
   "execution_count": 1,
   "metadata": {},
   "outputs": [],
   "source": [
    "import pandas as pd"
   ]
  },
  {
   "cell_type": "code",
   "execution_count": 2,
   "metadata": {},
   "outputs": [],
   "source": [
    "df = pd.read_csv(\"Review_db.csv\")"
   ]
  },
  {
   "cell_type": "code",
   "execution_count": 3,
   "metadata": {},
   "outputs": [
    {
     "name": "stdout",
     "output_type": "stream",
     "text": [
      "                City            Place  \\\n",
      "0  Aamby Valley City  19 Degree North   \n",
      "1  Aamby Valley City  19 Degree North   \n",
      "2  Aamby Valley City  19 Degree North   \n",
      "3  Aamby Valley City  19 Degree North   \n",
      "4  Aamby Valley City  19 Degree North   \n",
      "\n",
      "                                              Review  Rating       Name  Date  \\\n",
      "0  aamby valley beautiful place clear blue skies ...       5  Anonymous   NaN   \n",
      "1  executed obt akshay thanx team thoroughly enjo...       4  Anonymous   NaN   \n",
      "2  awesome experience atv tracts obstacles mainta...       5  Anonymous   NaN   \n",
      "3  visited aamby valley yesterday short excursion...       4  Anonymous   NaN   \n",
      "4  far mumbai place finest adventure places visit...       5  Anonymous   NaN   \n",
      "\n",
      "                                          Raw_Review  \n",
      "0  Aamby valley is a beautiful place with its cle...  \n",
      "1  Very well executed obt by Akshay.... Thanx as ...  \n",
      "2  Awesome experience at the ATV\\nTracts and obst...  \n",
      "3  we visited the Aamby Valley yesterday for shor...  \n",
      "4  Not far from Mumbai, this place is one of the ...  \n"
     ]
    }
   ],
   "source": [
    "print(df.head())"
   ]
  },
  {
   "cell_type": "code",
   "execution_count": 4,
   "metadata": {},
   "outputs": [],
   "source": [
    "df.drop(columns = ['Date'], inplace=True)"
   ]
  },
  {
   "cell_type": "code",
   "execution_count": 5,
   "metadata": {},
   "outputs": [],
   "source": [
    "df.drop(columns=['Name'], inplace=True)"
   ]
  },
  {
   "cell_type": "code",
   "execution_count": 6,
   "metadata": {},
   "outputs": [
    {
     "name": "stdout",
     "output_type": "stream",
     "text": [
      "Index(['City', 'Place', 'Review', 'Rating', 'Raw_Review'], dtype='object')\n"
     ]
    }
   ],
   "source": [
    "print(df.columns)\n",
    "df.to_csv(\"cleansed_data.csv\")"
   ]
  },
  {
   "cell_type": "code",
   "execution_count": 7,
   "metadata": {},
   "outputs": [],
   "source": [
    "df = pd.read_csv(\"cleansed_data.csv\")"
   ]
  },
  {
   "cell_type": "code",
   "execution_count": 8,
   "metadata": {},
   "outputs": [],
   "source": [
    "df = df.assign(sentiment=0.00)"
   ]
  },
  {
   "cell_type": "code",
   "execution_count": 9,
   "metadata": {},
   "outputs": [
    {
     "name": "stdout",
     "output_type": "stream",
     "text": [
      "Index(['Unnamed: 0', 'City', 'Place', 'Review', 'Rating', 'Raw_Review',\n",
      "       'sentiment'],\n",
      "      dtype='object')\n"
     ]
    }
   ],
   "source": [
    "print(df.columns)"
   ]
  },
  {
   "cell_type": "code",
   "execution_count": null,
   "metadata": {},
   "outputs": [],
   "source": [
    "# for row in df.itertuples():\n",
    "#     print(row)"
   ]
  },
  {
   "cell_type": "code",
   "execution_count": 10,
   "metadata": {},
   "outputs": [
    {
     "name": "stdout",
     "output_type": "stream",
     "text": [
      "   Unnamed: 0               City            Place  \\\n",
      "0           0  Aamby Valley City  19 Degree North   \n",
      "1           1  Aamby Valley City  19 Degree North   \n",
      "2           2  Aamby Valley City  19 Degree North   \n",
      "3           3  Aamby Valley City  19 Degree North   \n",
      "4           4  Aamby Valley City  19 Degree North   \n",
      "\n",
      "                                              Review  Rating  \\\n",
      "0  aamby valley beautiful place clear blue skies ...       5   \n",
      "1  executed obt akshay thanx team thoroughly enjo...       4   \n",
      "2  awesome experience atv tracts obstacles mainta...       5   \n",
      "3  visited aamby valley yesterday short excursion...       4   \n",
      "4  far mumbai place finest adventure places visit...       5   \n",
      "\n",
      "                                          Raw_Review  sentiment  \n",
      "0  Aamby valley is a beautiful place with its cle...        0.0  \n",
      "1  Very well executed obt by Akshay.... Thanx as ...        0.0  \n",
      "2  Awesome experience at the ATV\\nTracts and obst...        0.0  \n",
      "3  we visited the Aamby Valley yesterday for shor...        0.0  \n",
      "4  Not far from Mumbai, this place is one of the ...        0.0  \n"
     ]
    }
   ],
   "source": [
    "print(df.head())"
   ]
  },
  {
   "cell_type": "code",
   "execution_count": 12,
   "metadata": {},
   "outputs": [],
   "source": [
    "from pattern.en import sentiment\n",
    "\n",
    "for i in range(0,len(df)-1):\n",
    "    x = (str(sentiment(df.at[i,'Raw_Review'])))\n",
    "    s = \"\"\n",
    "    count=0\n",
    "    flag = False\n",
    "    for j in x:\n",
    "        if(flag):\n",
    "            count=count+1\n",
    "        if(j==',' or count == 3):\n",
    "            break\n",
    "        elif(j!='('):\n",
    "            s=s+j\n",
    "        \n",
    "        if(j == '.'):\n",
    "            flag=True\n",
    "\n",
    "    df.at[i,'sentiment'] = float(s)\n",
    "\n",
    "\n",
    "# for i in range (4,len(df)):\n",
    "#     df.at[i,'sentiment'] = 0.0\n",
    "# for i in range(0,5):\n",
    "#     print(df.at[i,'Review'])\n",
    "#     print('\\n')\n",
    "    # df.at[i,'sentiment'] = sentiment(df.at[i,'Review'])\n",
    "# print(len(df))\n",
    "# print(sentiment(\"NLP is hard.\"))"
   ]
  },
  {
   "cell_type": "code",
   "execution_count": 13,
   "metadata": {},
   "outputs": [],
   "source": [
    "df.to_csv(\"cleansed_data.csv\")"
   ]
  },
  {
   "cell_type": "code",
   "execution_count": 14,
   "metadata": {},
   "outputs": [
    {
     "name": "stdout",
     "output_type": "stream",
     "text": [
      "0.06\n",
      "-0.07\n",
      "0.12\n",
      "0.25\n",
      "0.25\n",
      "0.0\n",
      "0.26\n",
      "0.39\n",
      "0.67\n"
     ]
    }
   ],
   "source": [
    "for i in range(len(df)-10,len(df)-1):\n",
    "    print(df.at[i,'sentiment'])\n"
   ]
  }
 ],
 "metadata": {
  "kernelspec": {
   "display_name": "Python 3.10.5 64-bit",
   "language": "python",
   "name": "python3"
  },
  "language_info": {
   "codemirror_mode": {
    "name": "ipython",
    "version": 3
   },
   "file_extension": ".py",
   "mimetype": "text/x-python",
   "name": "python",
   "nbconvert_exporter": "python",
   "pygments_lexer": "ipython3",
   "version": "3.10.5 (tags/v3.10.5:f377153, Jun  6 2022, 16:14:13) [MSC v.1929 64 bit (AMD64)]"
  },
  "orig_nbformat": 4,
  "vscode": {
   "interpreter": {
    "hash": "1d35464b22ad81b624a3cc016497c0eca96171af82b9b67723e3ada9273f011b"
   }
  }
 },
 "nbformat": 4,
 "nbformat_minor": 2
}
